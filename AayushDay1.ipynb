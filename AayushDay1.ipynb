{
 "cells": [
  {
   "cell_type": "raw",
   "id": "58220e57-d488-4b9e-bc31-4f560523f938",
   "metadata": {},
   "source": [
    "print(\"Hello\")"
   ]
  },
  {
   "cell_type": "code",
   "execution_count": 3,
   "id": "485c5907-e026-457c-8b50-1fd83c2c190b",
   "metadata": {},
   "outputs": [],
   "source": [
    "import pandas as pd\n",
    "import numpy as np\n",
    "import matplotlib.pyplot as plt"
   ]
  },
  {
   "cell_type": "code",
   "execution_count": 11,
   "id": "0befdf61-4102-4166-a48b-35194c0548d0",
   "metadata": {},
   "outputs": [],
   "source": [
    "df = pd.read_excel('C:/Users/Dell/Desktop/dataanalytics/newdata.xlsx')"
   ]
  },
  {
   "cell_type": "code",
   "execution_count": null,
   "id": "eb7bcd1c-f52e-4a89-a39f-c76b14085712",
   "metadata": {},
   "outputs": [],
   "source": [
    "print(df.head()) #print the top  5 rows"
   ]
  },
  {
   "cell_type": "code",
   "execution_count": 16,
   "id": "4ebcde62-31c7-4bc5-ab17-96cb59183389",
   "metadata": {},
   "outputs": [
    {
     "name": "stdout",
     "output_type": "stream",
     "text": [
      "(3102, 17)\n"
     ]
    }
   ],
   "source": [
    "print(df.shape) #gives the no. of rows and the columns in the file"
   ]
  },
  {
   "cell_type": "code",
   "execution_count": 17,
   "id": "65863d75-b5a4-464a-80f2-afb39ebc4984",
   "metadata": {},
   "outputs": [
    {
     "name": "stdout",
     "output_type": "stream",
     "text": [
      "Index(['job_title_short', 'job_title', 'job_location', 'job_via',\n",
      "       'job_schedule_type', 'job_work_from_home', 'search_location',\n",
      "       'job_posted_date', 'job_no_degree_mention', 'job_health_insurance',\n",
      "       'job_country', 'salary_rate', 'salary_year_avg', 'salary_hour_avg',\n",
      "       'company_name', 'job_skills', 'month_rs'],\n",
      "      dtype='object')\n"
     ]
    }
   ],
   "source": [
    "print(df.columns)"
   ]
  },
  {
   "cell_type": "code",
   "execution_count": 18,
   "id": "0bafda6d-4e14-4818-859b-aac358122181",
   "metadata": {},
   "outputs": [
    {
     "name": "stdout",
     "output_type": "stream",
     "text": [
      "job_title_short                  object\n",
      "job_title                        object\n",
      "job_location                     object\n",
      "job_via                          object\n",
      "job_schedule_type                object\n",
      "job_work_from_home                 bool\n",
      "search_location                  object\n",
      "job_posted_date          datetime64[ns]\n",
      "job_no_degree_mention              bool\n",
      "job_health_insurance               bool\n",
      "job_country                      object\n",
      "salary_rate                      object\n",
      "salary_year_avg                 float64\n",
      "salary_hour_avg                 float64\n",
      "company_name                     object\n",
      "job_skills                       object\n",
      "month_rs                        float64\n",
      "dtype: object\n"
     ]
    }
   ],
   "source": [
    "print(df.dtypes)"
   ]
  },
  {
   "cell_type": "code",
   "execution_count": 20,
   "id": "5dd123fa-17fc-401b-a973-47bcd1894830",
   "metadata": {},
   "outputs": [
    {
     "name": "stdout",
     "output_type": "stream",
     "text": [
      "0       218.810916\n",
      "1       153.508772\n",
      "2        85.894737\n",
      "3         0.000000\n",
      "4       103.118908\n",
      "           ...    \n",
      "3097      0.000000\n",
      "3098     77.902930\n",
      "3099    143.762183\n",
      "3100     55.068226\n",
      "3101      0.000000\n",
      "Name: month_rs, Length: 3102, dtype: float64\n"
     ]
    }
   ],
   "source": [
    "newCol1 = df['month_rs']\n",
    "print(newCol1)"
   ]
  },
  {
   "cell_type": "code",
   "execution_count": 22,
   "id": "2b35f04a-c271-4210-b953-b8dfe27771a3",
   "metadata": {},
   "outputs": [
    {
     "name": "stdout",
     "output_type": "stream",
     "text": [
      "         company_name    job_country  \\\n",
      "0              TikTok  United States   \n",
      "1              TikTok  United States   \n",
      "2           digiRocks         France   \n",
      "3  UnitedHealth Group  United States   \n",
      "4  Cox Communications  United States   \n",
      "\n",
      "                                          job_skills    month_rs  \n",
      "0                   ['r', 'python', 'matlab', 'sql']  218.810916  \n",
      "1                                  ['sql', 'python']  153.508772  \n",
      "2  ['python', 'c++', 'pytorch', 'tensorflow', 'ke...   85.894737  \n",
      "3  ['r', 'python', 'vba', 'sas', 'sas', 'sql', 'd...    0.000000  \n",
      "4  ['sql', 'python', 'aws', 'pandas', 'numpy', 's...  103.118908  \n"
     ]
    }
   ],
   "source": [
    "subset = df[['company_name','job_country','job_skills','month_rs']]\n",
    "print(subset.head())"
   ]
  },
  {
   "cell_type": "code",
   "execution_count": 23,
   "id": "e0d06db5-16e9-49ad-a8d9-2d9f4c1a7e67",
   "metadata": {},
   "outputs": [
    {
     "name": "stdout",
     "output_type": "stream",
     "text": [
      "company_name                              TikTok\n",
      "job_country                        United States\n",
      "job_skills      ['r', 'python', 'matlab', 'sql']\n",
      "month_rs                              218.810916\n",
      "Name: 0, dtype: object\n"
     ]
    }
   ],
   "source": [
    "print(subset.loc[0])"
   ]
  }
 ],
 "metadata": {
  "kernelspec": {
   "display_name": "Python 3 (ipykernel)",
   "language": "python",
   "name": "python3"
  },
  "language_info": {
   "codemirror_mode": {
    "name": "ipython",
    "version": 3
   },
   "file_extension": ".py",
   "mimetype": "text/x-python",
   "name": "python",
   "nbconvert_exporter": "python",
   "pygments_lexer": "ipython3",
   "version": "3.13.5"
  }
 },
 "nbformat": 4,
 "nbformat_minor": 5
}
